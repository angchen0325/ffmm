{
 "cells": [
  {
   "cell_type": "markdown",
   "metadata": {},
   "source": [
    "<center> <img src=\"data:image/svg+xml;base64,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\" style=\"width:8.0%\"/></center>"
   ]
  },
  {
   "cell_type": "markdown",
   "metadata": {},
   "source": [
    "<center><font size=5 face=\"Helvetica\" color=#306998><b>\n",
    "Fourier Modal Method\n",
    "</b></font></center>"
   ]
  },
  {
   "cell_type": "markdown",
   "metadata": {},
   "source": [
    "<center><font face=\"Helvetica\" size=2><b>Ang Chen</b></font></center>\n",
    "<center><font face=\"Helvetica\" size=3>May, 2024</font></center>\n",
    "\n",
    "***"
   ]
  },
  {
   "cell_type": "markdown",
   "metadata": {},
   "source": [
    "# Introduction"
   ]
  },
  {
   "cell_type": "markdown",
   "metadata": {},
   "source": [
    "The basis idea of Fourier Modal Method (FMM) is quite simple: \n",
    " * The electromagnetic fields are first solved as eigenfunctions of Maxwell's equations in the interior of the grating region where the periodic permittivity varies.\n",
    " * Then the total fields are expressed as superpositions of the eigenfunctions.\n",
    " * The final solution of the grating problem is obtained by matching the electromagnetic boundary conditions at the boundaries of the grating region.\n",
    " \n",
    "The most importtant step in FMM is the solution of the eigenfunctions.\n",
    "In physical and engineering terms, the eigenfunctions of a mechanical or electromagnetic system are called modes,  hence the name *modal method*.\n",
    "\n",
    "In order to seek the eigenfunctions, there is an approach expanding both fields and permittibity functions into Fourier series, which transforms the electromagnetic boundary value problem in real space into a matrix eigenvalue problem in denumerably infinite Fourier space. \n",
    "Among many names, the name *Fourier Modal Method* is the most appropriate one due to its accurate description of the method's characteristics.\n",
    "\n",
    "Our goal here is to develop the fastest and most accurate FMM algorithm for scientific resarch and industrial applications such as optical critical dimension metrology in semiconductor manufacturing, with the help of multi-core CPU and GPU computing.\n",
    "To achieve this, we will use the libraries and platforms such as MPI, CUDA, and OpenMP, which are widely used in scientific computing and provide efficient parallel computing capabilities.\n",
    "\n",
    "Almost all the algorithms in computational photonics (or more generally, computational electromagnetics) starts with the \n",
    "Maxwell's equations, with the SI units as follows:\n",
    "\\begin{align}       \n",
    "\\nabla\\cdot\\textbf{D}&=\\rho, \\tag{1.1a} \\\\\n",
    "\\nabla\\times\\textbf{E} &= -\\frac{\\partial\\textbf{B}}{\\partial t}, \\tag{1.1b} \\\\\n",
    "\\nabla\\times\\textbf{H} &= \\textbf{J} + \\frac{\\partial\\textbf{D}}{\\partial t}, \\tag{1.1c} \\\\\n",
    "\\nabla\\cdot\\textbf{B} &= 0. \\tag{1.1d} \n",
    "\\end{align}\n",
    "And coresponding material relations are:\n",
    "\\begin{align}\n",
    "\\textbf{D} &= \\epsilon_0\\epsilon\\textbf{E}, \\tag{1.2a} \\\\\n",
    "\\textbf{B} &= \\mu_0\\mu\\textbf{H}. \\tag{1.2b}      \n",
    "\\end{align}\n",
    "\n",
    "For full description of FMM, we can divide the situations into two categories: structures with and without\n",
    "sources.\n",
    "Ref. [1] describes the cases without sources, and Ref. [2] does with sources.\n",
    "\n",
    "This note is organized as follows (I will continuously update the following sections): \n",
    " * Section 2 describes the mathematical framework of FMM following $\\texttt{S4}$ paper [1], together with the previous works in the field. \n",
    " * Section 3 introduces the $\\texttt{fmmax}$ paper [2], putting foward the FMM applications in simulating and optimizing the field of micro-LEDs, and extra simulated capabilities of anisotropic materials.\n",
    " * Section 4 builds both python and C++ codes for FMM for different applications in scientific computing and industrial applications. "
   ]
  },
  {
   "cell_type": "markdown",
   "metadata": {},
   "source": [
    "# Formulation of S4"
   ]
  },
  {
   "cell_type": "markdown",
   "metadata": {},
   "source": [
    "## Geometric definitions"
   ]
  },
  {
   "cell_type": "markdown",
   "metadata": {},
   "source": [
    "Througout this note, the coordinate system is oriented such that the $z$-axis is normal to the layers of the\n",
    "structure, and the structure is assumed to be periodic in the $xy$-plane with primitive lattice vectors\n",
    "$\\textbf{l}_1$ and $\\textbf{l}_2$, as shown in the cover.\n",
    "The transverse coordinates in the $xy$-plane are lumped into a vector $\\textbf{r}$. \n",
    "Layer $i$ has the thickness $d_i$ and extends from $z = z_i$ to $z = z_i + d_i$, with layer 1 extending from \n",
    "$z = z_0 = 0$ to $z = d_1$ as an example. \n",
    "The infinite half-space $z < 0$ in front of the structure is denoted layer 0, and the infinite half-space behind the\n",
    "structure is denoted layer $L$.\n",
    "Each layer is assumed invariant in the z-direction; \n",
    "that is, in layer $i$, the spatial dielectric distribution $\\epsilon(x, y, z$) is constant for fixed $x$ and $y$, and\n",
    "$z_i < z < z_i + d_i$."
   ]
  },
  {
   "cell_type": "markdown",
   "metadata": {},
   "source": [
    "<img src=\"../imgs/real_reciprocal_spaces.png\" alt=\"Real and Reciprocal Spaces\"/>"
   ]
  },
  {
   "cell_type": "markdown",
   "metadata": {},
   "source": [
    "For the reciprocal lattice of the Fourier domain, we first denote a real space primitive lattice vector matrix\n",
    "whose columns are $\\textbf{l}_1$ and $\\textbf{l}_2$, as shown in the upper figure:\n",
    "\\begin{equation}\n",
    "\\tag{2.1}\n",
    "L_r = \n",
    "\\begin{bmatrix}\n",
    "\\textbf{l}_1 & \\textbf{l}_2\n",
    "\\end{bmatrix} =\n",
    "\\begin{bmatrix}\n",
    "l_{1x} & l_{2x} \\\\\n",
    "l_{1y} & l_{2y}\n",
    "\\end{bmatrix}.\n",
    "\\end{equation}\n",
    "We can also define the matrix of the reciprocal lattice vectors as\n",
    "\\begin{equation}\n",
    "\\tag{2.2}\n",
    "L_k = \n",
    "\\begin{bmatrix}\n",
    "\\textbf{n}_1 & \\textbf{n}_2\n",
    "\\end{bmatrix} =\n",
    "\\begin{bmatrix}\n",
    "n_{1x} & n_{2x} \\\\\n",
    "n_{1y} & n_{2y}\n",
    "\\end{bmatrix}.\n",
    "\\end{equation}\n",
    "The primitive reciprocal lattice vectors can be constructed with the following recipe:\n",
    "\\begin{equation}\n",
    "\\tag{2.3}\n",
    "\\textbf{n}_1 = \\frac{2\\pi \\textbf{l}_2\\times\\textbf{l}_3}{\\textbf{l}_1\\cdot\\left(\\textbf{l}_2\\times\\textbf{l}_3\\right)},\\quad\n",
    "\\textbf{n}_2 = \\frac{2\\pi \\textbf{l}_3\\times\\textbf{l}_1}{\\textbf{l}_1\\cdot\\left(\\textbf{l}_2\\times\\textbf{l}_3\\right)}.\n",
    "\\end{equation}\n",
    "Here the third primitive lattice vector is $\\textbf{l}_3 = \\hat{z}$, and hence we can reach\n",
    "\\begin{equation}\n",
    "\\tag{2.4}\n",
    "L_k = \n",
    "\\frac{2\\pi}{\\textbf{l}_1\\cdot\\left(\\textbf{l}_2\\times\\hat{z}\\right)}\n",
    "\\begin{bmatrix}\n",
    "\\textbf{l}_2\\times\\hat{z} & \\hat{z}\\times\\textbf{l}_1\n",
    "\\end{bmatrix} =\n",
    "\\frac{2\\pi}{l_{1x}l_{2y}-l_{2x}l_{1y}}\n",
    "\\begin{bmatrix}\n",
    "l_{2y} & -l_{1y} \\\\\n",
    "-l_{2x} & l_{1x}\n",
    "\\end{bmatrix} = \n",
    "2\\pi \\left(L_r^{-1}\\right)^\\text{T}.\n",
    "\\end{equation}"
   ]
  },
  {
   "cell_type": "markdown",
   "metadata": {},
   "source": [
    "## Maxwell's equations in a layer"
   ]
  },
  {
   "cell_type": "markdown",
   "metadata": {},
   "source": [
    "To calculate reflection, transmission, or absorption spectra of structures, incident radiation\n",
    "from layer $0$ is assumed to be a plane wave propagating in positive $z$ direction\n",
    "towards layer $1$, whose incident wavevector is $\\textbf{k}_\\text{inc}$ with in-plane component $\\textbf{k}$."
   ]
  },
  {
   "cell_type": "markdown",
   "metadata": {},
   "source": [
    "### Units and conventions"
   ]
  },
  {
   "cell_type": "markdown",
   "metadata": {},
   "source": [
    "Assuming a harmonic time dependence $e^{-i\\omega t}$, Maxwell's equations in a *dielectric* medium \n",
    "together with the material relations can be written as (here for most dielectrics, $\\mu=1$ is a good assumption):\n",
    "\\begin{align}\n",
    "\\nabla\\cdot\\epsilon_0\\epsilon\\textbf{E} &= 0, \\tag{2.5a} \\\\\n",
    "\\nabla\\cdot\\textbf{H} &= 0, \\tag{2.5b} \\\\\n",
    "\\nabla\\times\\textbf{E} &= i\\omega\\mu_0\\textbf{H}, \\tag{2.5c}  \\\\\n",
    "\\nabla\\times\\textbf{H} &= -i\\omega\\epsilon_0\\epsilon\\textbf{E}. \\tag{2.5d} \n",
    "\\end{align}\n",
    "Note that Eq. (2.5a) and Eq. (2.5b) are automatically\n",
    "implied by Eq. (2.5d)and Eq. (2.5c), respectively.\n",
    "In order to make $\\epsilon_0, \\mu_0$ and $c$ drop out, we need to scale $\\sqrt{\\mu_0\\epsilon_0}\\omega_\\text{SI}\\rightarrow\\omega$,  \n",
    "$\\sqrt{\\mu_0\\epsilon_0}\\textbf{H}_\\text{SI}\\rightarrow\\textbf{H}$ and $\\textbf{E}_\\text{SI}\\rightarrow\\textbf{E}$. \n",
    "This change of units brings the electric and magnetic fields onto the same scale, and the temporal and spatial frequency scales onto the\n",
    "same scale, also providing better numerical conditioning in the implementation.\n",
    "With these new units, Eqs. (2.5c) and (2.5d) can be written as\n",
    "\\begin{align}\n",
    "\\nabla\\times\\textbf{E} &= i\\omega\\textbf{H}, \\tag{2.6a}  \\\\\n",
    "\\nabla\\times\\textbf{H} &= -i\\omega\\epsilon\\textbf{E}. \\tag{2.6b} \n",
    "\\end{align}"
   ]
  },
  {
   "cell_type": "markdown",
   "metadata": {},
   "source": [
    "### Fourier transforms"
   ]
  },
  {
   "cell_type": "markdown",
   "metadata": {},
   "source": [
    "Because of the periodicity in $xy$-plane and separability of the $z$-axis, the fields must have the form [4] (detailed derivation can be found in Appendix A):\n",
    "\\begin{equation}\n",
    "\\tag{2.7}\n",
    "\\textbf{H}_\\textbf{k}(\\textbf{r},z) = \n",
    "\\sum_\\textbf{G} \\textbf{H}_\\textbf{G}(z) e^{i\\left(\\textbf{k}+\\textbf{G}\\right)\\cdot\\textbf{r}}.\n",
    "\\end{equation}\n",
    "An analogous equation holds for $\\textbf{E}$.\n",
    "A real simulation needs the trunction to a finite set of $\\textbf{G}$, which is in principle the only ``discretization'' for the FMM."
   ]
  },
  {
   "cell_type": "markdown",
   "metadata": {},
   "source": [
    "# A Field form derivation"
   ]
  },
  {
   "cell_type": "markdown",
   "metadata": {},
   "source": [
    "In the section ``Discrete Translational Symmetry'' of Ref. [4], the authors\n",
    "have derived the field form of a nanostructure that is repetitive in one direction ($y$-axis).\n",
    "Here following the same procedure, we will derive the field form for a structure that is periodic  in $xy$-plane.\n",
    "The eigenfunctions in $xy$-plane are plane waves:\n",
    "\\begin{equation}\n",
    "\\tag{A.1}\n",
    "\\hat{T}_{\\textbf{R}_{m,n}} e^{i\\textbf{k}\\cdot\\textbf{r}} = \n",
    "e^{i\\textbf{k}\\cdot(\\textbf{r}-\\textbf{R}_{m,n})} =\n",
    "e^{-i\\textbf{k}\\cdot\\textbf{R}_{m,n}} e^{i\\textbf{k}\\cdot\\textbf{r}},\n",
    "\\end{equation}\n",
    "where $\\textbf{R}_{m,n} = m\\textbf{l}_1 + n\\textbf{l}_2$.\n",
    "Given $\\textbf{k}$, $\\textbf{k}+\\textbf{G}_{p,q}$ also gives operator $\\hat{T}_{\\textbf{R}_{m,n}}$ the same eigenvalue \n",
    "$e^{-i\\textbf{k}\\cdot\\textbf{R}_{m,n}}$ with\n",
    "\\begin{equation}\n",
    "\\tag{A.2}\n",
    "\\textbf{G}_{p,q} = \n",
    "p\\textbf{n}_1 + q\\textbf{n}_2 =\n",
    "\\begin{bmatrix}\n",
    "\\textbf{n}_1 & \\textbf{n}_2\n",
    "\\end{bmatrix} \n",
    "\\begin{bmatrix}\n",
    "p \\\\ q\n",
    "\\end{bmatrix} = \n",
    "L_k \\mathbb{Z}^2.\n",
    "\\end{equation}\n",
    "All of the modes with wave vectors of the form $\\textbf{k}+\\textbf{G}_{p,q}$, form a degenerate set whose eigenvalues are\n",
    "all equal to $e^{-i\\textbf{k}\\cdot\\textbf{R}_{m,n}}$.\n",
    "Since any linear combination of these degenerate eigenfunctions is itself an eigenfunction with the same eigenvalue, \n",
    "we can take linear combinations of our original modes to put them in the form\n",
    "\\begin{equation}\n",
    "\\tag{A.3}\n",
    "\\textbf{H}_\\textbf{k}(\\textbf{r},z) = \n",
    "\\sum_{p,q} c_{p,q}(z) e^{i\\left(\\textbf{k}+\\textbf{G}_{p,q}\\right)\\cdot\\textbf{r}} =\n",
    "\\sum_\\textbf{G} \\textbf{H}_\\textbf{G}(z) e^{i\\left(\\textbf{k}+\\textbf{G}\\right)\\cdot\\textbf{r}}.\n",
    "\\end{equation}\n",
    "Here we denote the expansion coefficients $c_{p,q}(z)$ with $\\textbf{H}_\\textbf{G}(z)$, and summation with $\\textbf{G}$.\n"
   ]
  },
  {
   "cell_type": "markdown",
   "metadata": {},
   "source": [
    "# References"
   ]
  },
  {
   "cell_type": "markdown",
   "metadata": {},
   "source": [
    "1. Victor Liu and Shanhui Fan. *S4: A free electromagnetic solver for layered periodic structures*. Computer Physics Communications **183**: 2233, 2012.\n",
    "\n",
    "2. D. M. Whittaker and I. S. Culshaw. *Scattering-matrix treatment of patterned multilayer photonic structures*. Physical Review B **60**: 2610, 1999.\n",
    "\n",
    "3. Martin F. Schubert and Alec M. Hammond. *Fourier modal method for inverse design of metasurface-enhanced micro-LEDs*. Optics Express **31**: 42945, 2023.\n",
    "\n",
    "4. J. D. Joannopoulos, S. G. Johnson, J. N. Winn and R. D. Meade. *Photonic Crystals: Molding the Flow of Light* 2nd ed (Princeton University Press, 2008).\n",
    "\n",
    "***"
   ]
  },
  {
   "cell_type": "markdown",
   "metadata": {},
   "source": []
  }
 ],
 "metadata": {
  "interpreter": {
   "hash": "aee8b7b246df8f9039afb4144a1f6fd8d2ca17a180786b69acc140d282b71a49"
  },
  "kernelspec": {
   "display_name": "Python 3 (ipykernel)",
   "language": "python",
   "name": "python3"
  },
  "language_info": {
   "codemirror_mode": {
    "name": "ipython",
    "version": 3
   },
   "file_extension": ".py",
   "mimetype": "text/x-python",
   "name": "python",
   "nbconvert_exporter": "python",
   "pygments_lexer": "ipython3",
   "version": "3.9.6"
  },
  "metadata": {
   "interpreter": {
    "hash": "aee8b7b246df8f9039afb4144a1f6fd8d2ca17a180786b69acc140d282b71a49"
   }
  }
 },
 "nbformat": 4,
 "nbformat_minor": 2
}
